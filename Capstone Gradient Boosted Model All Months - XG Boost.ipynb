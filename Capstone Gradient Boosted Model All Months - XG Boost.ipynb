{
 "cells": [
  {
   "cell_type": "markdown",
   "id": "8100b996",
   "metadata": {},
   "source": [
    "# Project Geminae MidPoint Model\n",
    "## Gradient Boosted Regression Model for 3 and 6 month projections\n",
    "\n",
    "Tom Gregg\n",
    "\n",
    "2024-02-25"
   ]
  },
  {
   "cell_type": "markdown",
   "id": "702de5cb",
   "metadata": {},
   "source": [
    "## Setting Up The Model"
   ]
  },
  {
   "cell_type": "code",
   "execution_count": 1,
   "id": "b801fc79",
   "metadata": {},
   "outputs": [],
   "source": [
    "# Import Basic Libraries\n",
    "import pandas as pd\n",
    "import matplotlib.pyplot as plt\n",
    "import seaborn as sns\n",
    "from scipy import stats\n",
    "import numpy as np\n",
    "from datetime import datetime"
   ]
  },
  {
   "cell_type": "code",
   "execution_count": 2,
   "id": "dbc0b025",
   "metadata": {},
   "outputs": [],
   "source": [
    "# Importing Libraries and Packages to perform Boosted Tree\n",
    "from sklearn.model_selection import train_test_split\n",
    "from sklearn.ensemble import GradientBoostingRegressor\n",
    "from sklearn.model_selection import cross_val_score\n",
    "from sklearn.model_selection import GridSearchCV\n",
    "from sklearn.metrics import mean_squared_error\n",
    "from sklearn.model_selection import RandomizedSearchCV\n",
    "from scipy.stats import uniform, randint\n",
    "from xgboost import XGBRegressor"
   ]
  },
  {
   "cell_type": "code",
   "execution_count": 3,
   "id": "6d556367",
   "metadata": {},
   "outputs": [],
   "source": [
    "# Max Display \n",
    "pd.options.display.max_columns = None\n",
    "pd.options.display.max_rows = None"
   ]
  },
  {
   "cell_type": "markdown",
   "id": "7a1c71da",
   "metadata": {},
   "source": [
    "## Importing and Preparing Data"
   ]
  },
  {
   "cell_type": "code",
   "execution_count": 48,
   "id": "661c63f7",
   "metadata": {},
   "outputs": [],
   "source": [
    "# Creating our file path for the CSV\n",
    "file_path = 'https://raw.githubusercontent.com/tbgregg000/Capstone/main/GenericWellDataPrepped.csv'\n",
    "df = pd.read_csv(file_path).copy()"
   ]
  },
  {
   "cell_type": "code",
   "execution_count": 39,
   "id": "e284660a",
   "metadata": {},
   "outputs": [
    {
     "name": "stdout",
     "output_type": "stream",
     "text": [
      "<class 'pandas.core.frame.DataFrame'>\n",
      "RangeIndex: 16707 entries, 0 to 16706\n",
      "Data columns (total 89 columns):\n",
      " #   Column                                   Non-Null Count  Dtype  \n",
      "---  ------                                   --------------  -----  \n",
      " 0   Well Index                               16707 non-null  int64  \n",
      " 1   TrueVerticalDepth_FT                     16707 non-null  float64\n",
      " 2   MeasuredDepth_FT                         16707 non-null  float64\n",
      " 3   UpperPerforation_FT                      16707 non-null  float64\n",
      " 4   LowerPerforation_FT                      16707 non-null  float64\n",
      " 5   PerforationInterval_FT                   16707 non-null  float64\n",
      " 6   LateralLength_FT                         16707 non-null  float64\n",
      " 7   ProppantLoad_LBSPerGAL                   16707 non-null  float64\n",
      " 8   ProppantIntensity_LBSPerFT               16707 non-null  float64\n",
      " 9   TotalProppant_LBS                        16707 non-null  float64\n",
      " 10  TotalWaterPumped_GAL                     16707 non-null  float64\n",
      " 11  WaterIntensity_GALPerFT                  16707 non-null  float64\n",
      " 12  TotalFluidPumped_BBL                     16707 non-null  float64\n",
      " 13  FluidIntensity_BBLPerFT                  16707 non-null  float64\n",
      " 14  AcidVolume_BBL                           16707 non-null  float64\n",
      " 15  DrillingDuration_DAYS                    16707 non-null  float64\n",
      " 16  OilTest_Method_FLOWING                   16707 non-null  float64\n",
      " 17  OilTest_Method_GAS LIFT                  16707 non-null  float64\n",
      " 18  OilTest_Method_PUMPING                   16707 non-null  float64\n",
      " 19  FractureStages                           738 non-null    float64\n",
      " 20  AvgStageSpacing_FT                       737 non-null    float64\n",
      " 21  InitialProductionDate                    16707 non-null  object \n",
      " 22  DrillingStartDate                        16706 non-null  object \n",
      " 23  InitialProductionYear                    16707 non-null  int64  \n",
      " 24  DrillingCompletionDate                   16707 non-null  object \n",
      " 25  YearOfDrilling                           16707 non-null  int64  \n",
      " 26  InitialProductionMonth                   0 non-null      float64\n",
      " 27  ProductionMonthsCount                    16707 non-null  int64  \n",
      " 28  First36MonthWater_BBL                    10861 non-null  float64\n",
      " 29  First3MonthGas_MCF                       16707 non-null  int64  \n",
      " 30  First3MonthGas_MCFPer1000FT              16706 non-null  float64\n",
      " 31  First3MonthProd_MCFE                     16707 non-null  int64  \n",
      " 32  First3MonthProd_MCFEPer1000FT            16706 non-null  float64\n",
      " 33  First3MonthOil_BBL                       16707 non-null  int64  \n",
      " 34  First3MonthOil_BBLPer1000FT              16706 non-null  float64\n",
      " 35  First3MonthWater_BBL                     16707 non-null  int64  \n",
      " 36  First6MonthProd_BOE                      16707 non-null  int64  \n",
      " 37  First6MonthProd_BOEPer1000FT             16706 non-null  float64\n",
      " 38  First6MonthGas_MCF                       16707 non-null  int64  \n",
      " 39  First6MonthGas_MCFPer1000FT              16706 non-null  float64\n",
      " 40  First6MonthProd_MCFE                     16707 non-null  int64  \n",
      " 41  First6MonthProd_MCFEPer1000FT            16706 non-null  float64\n",
      " 42  First6MonthOil_BBL                       16707 non-null  int64  \n",
      " 43  First6MonthOil_BBLPer1000FT              16706 non-null  float64\n",
      " 44  First6MonthWater_BBL                     16707 non-null  int64  \n",
      " 45  First9MonthProd_BOE                      16098 non-null  float64\n",
      " 46  First9MonthProd_BOEPer1000FT             16097 non-null  float64\n",
      " 47  First9MonthGas_MCF                       16098 non-null  float64\n",
      " 48  First9MonthGas_MCFPer1000FT              16097 non-null  float64\n",
      " 49  First9MonthProd_MCFE                     16098 non-null  float64\n",
      " 50  First9MonthProd_MCFEPer1000FT            16097 non-null  float64\n",
      " 51  First9MonthOil_BBL                       16098 non-null  float64\n",
      " 52  First9MonthOil_BBLPer1000FT              16097 non-null  float64\n",
      " 53  First9MonthWater_BBL                     16098 non-null  float64\n",
      " 54  First12MonthProd_BOE                     15563 non-null  float64\n",
      " 55  First12MonthProd_BOEPer1000FT            15562 non-null  float64\n",
      " 56  First12MonthGas_MCF                      15563 non-null  float64\n",
      " 57  First12MonthGas_MCFPer1000FT             15562 non-null  float64\n",
      " 58  First12MonthProd_MCFE                    15563 non-null  float64\n",
      " 59  First12MonthProd_MCFEPer1000FT           15562 non-null  float64\n",
      " 60  First12MonthOil_BBL                      15563 non-null  float64\n",
      " 61  First12MonthOil_BBLPer1000FT             15562 non-null  float64\n",
      " 62  First12MonthWater_BBL                    15563 non-null  float64\n",
      " 63  First36MonthProd_BOE                     10861 non-null  float64\n",
      " 64  First36MonthProd_BOEPer1000FT            10860 non-null  float64\n",
      " 65  First36MonthGas_MCFPer1000FT             10860 non-null  float64\n",
      " 66  First36MonthProd_MCFE                    10861 non-null  float64\n",
      " 67  First36MonthProd_MCFEPer1000FT           10860 non-null  float64\n",
      " 68  First36MonthOil_BBLPer1000FT             10860 non-null  float64\n",
      " 69  First36MonthWaterProductionBBLPer1000Ft  10860 non-null  float64\n",
      " 70  PeakProd_BOE                             16707 non-null  int64  \n",
      " 71  PeakProd_BOEPer1000FT                    16706 non-null  float64\n",
      " 72  PeakGas_MCF                              16707 non-null  int64  \n",
      " 73  PeakGas_MCFPer1000FT                     16706 non-null  float64\n",
      " 74  PeakProd_MCFE                            16707 non-null  int64  \n",
      " 75  PeakProd_MCFEPer1000FT                   16706 non-null  float64\n",
      " 76  PeakOil_BBL                              16707 non-null  int64  \n",
      " 77  PeakOil_BBLPer1000FT                     16706 non-null  float64\n",
      " 78  PeakWater_BBL                            16707 non-null  int64  \n",
      " 79  CumProd_BOE                              16707 non-null  int64  \n",
      " 80  CumProd_BOEPer1000FT                     16706 non-null  float64\n",
      " 81  CumGas_MCF                               16707 non-null  int64  \n",
      " 82  CumGas_MCFPer1000FT                      16706 non-null  float64\n",
      " 83  CumProd_MCFE                             16707 non-null  int64  \n",
      " 84  CumProd_MCFEPer1000FT                    16706 non-null  float64\n",
      " 85  CumOil_BBL                               16707 non-null  int64  \n",
      " 86  CumOil_BBLPer1000FT                      16706 non-null  float64\n",
      " 87  CumWater_BBL                             16707 non-null  int64  \n",
      " 88  First3MonthProd_BOEPer1000FT             16706 non-null  float64\n",
      "dtypes: float64(63), int64(23), object(3)\n",
      "memory usage: 11.3+ MB\n"
     ]
    }
   ],
   "source": [
    "df.info()"
   ]
  },
  {
   "cell_type": "code",
   "execution_count": 49,
   "id": "576ee27d",
   "metadata": {},
   "outputs": [],
   "source": [
    "# Dropping 2020 since the data in this year is thrown off\n",
    "df = df[df['YearOfDrilling'] != 2020]\n",
    "# df = df[df['YearOfDrilling'] >= 2017]\n",
    "# Drop any null 12 month values\n"
   ]
  },
  {
   "cell_type": "code",
   "execution_count": 50,
   "id": "dca57c70",
   "metadata": {},
   "outputs": [],
   "source": [
    "df.dropna(subset=['First12MonthGas_MCFPer1000FT'], inplace=True)"
   ]
  },
  {
   "cell_type": "code",
   "execution_count": 8,
   "id": "b93e74e4",
   "metadata": {},
   "outputs": [],
   "source": [
    "# df['YearOfDrilling'].value_counts()"
   ]
  },
  {
   "cell_type": "code",
   "execution_count": 43,
   "id": "9aabe1e2",
   "metadata": {},
   "outputs": [],
   "source": [
    "df_cleaned = df.copy()"
   ]
  },
  {
   "cell_type": "code",
   "execution_count": 51,
   "id": "67915bab",
   "metadata": {},
   "outputs": [],
   "source": [
    "# Splitting data into Water, Gas, and Oil \n",
    "# Splitting data into 3 month and 6 month\n",
    "y_w_3 = df_cleaned['First3MonthWater_BBL']\n",
    "y_g_3 = df_cleaned['First3MonthGas_MCF']\n",
    "y_o_3 = df_cleaned['First3MonthOil_BBL']\n",
    "y_w_6 = df_cleaned['First6MonthWater_BBL']\n",
    "y_g_6 = df_cleaned['First6MonthGas_MCF']\n",
    "y_o_6 = df_cleaned['First6MonthOil_BBL']\n",
    "y_w_9 = df_cleaned['First9MonthWater_BBL']\n",
    "y_g_9 = df_cleaned['First9MonthGas_MCF']\n",
    "y_o_9 = df_cleaned['First9MonthOil_BBL']\n",
    "y_w_12 = df_cleaned['First12MonthWater_BBL']\n",
    "y_g_12 = df_cleaned['First12MonthGas_MCF']\n",
    "y_o_12 = df_cleaned['First12MonthOil_BBL']\n",
    "# y_w_36 = df_cleaned['First36MonthWater_BBL']\n",
    "# y_g_36 = df_cleaned['First36MonthGas_MCFPer1000FT']\n",
    "# y_o_36 = df_cleaned['First36MonthOil_BBLPer1000FT']\n",
    "y_w_peak = df_cleaned['PeakWater_BBL']\n",
    "y_g_peak = df_cleaned['PeakGas_MCF']\n",
    "y_o_peak = df_cleaned['PeakOil_BBL']\n",
    "y_w_cum = df_cleaned['CumWater_BBL']\n",
    "y_g_cum = df_cleaned['CumGas_MCF']\n",
    "y_o_cum = df_cleaned['CumOil_BBL']"
   ]
  },
  {
   "cell_type": "code",
   "execution_count": 52,
   "id": "5703d69d",
   "metadata": {},
   "outputs": [],
   "source": [
    "# Creating X using just the non-production columns\n",
    "X = df_cleaned.iloc[:, :26]\n",
    "X = X.drop(\"Well Index\", axis=1)\n",
    "\n",
    "# Date Cleanup\n",
    "columns_to_change = ['InitialProductionDate','DrillingStartDate','DrillingCompletionDate']\n",
    "for col in columns_to_change:\n",
    "    X[col] = pd.to_datetime(X[col])\n",
    "\n",
    "# Loop through specific columns and rename\n",
    "for col in columns_to_change:\n",
    "    new_name = col + 'Num'\n",
    "    X.rename(columns={col: new_name}, inplace=True)\n",
    "    X[new_name] = X[new_name].astype('int64') / 10**9\n",
    "\n",
    "\n",
    "# Dropping a few unnecessary columns\n",
    "# X = X.drop('InitialProductionMonth', axis = 1)\n",
    "X = X.drop('DrillingCompletionDateNum', axis = 1)\n",
    "X = X.drop('DrillingDuration_DAYS', axis = 1)\n",
    "# X = X.drop('ProductionMonthsCount', axis = 1)\n",
    "X = X.drop('YearOfDrilling', axis = 1)\n",
    "X = X.drop('InitialProductionYear', axis = 1)\n",
    "\n",
    "\n",
    "# # Dummy Variables for OilTest_Method\n",
    "# # Use pd.get_dummies to create dummy variables\n",
    "# dummy_vars = pd.get_dummies(X['OilTest_Method'], prefix='OilTest_Method', drop_first=True)\n",
    "\n",
    "# # Add the dummy variables as new columns to your DataFrame\n",
    "# X = pd.concat([X.drop(\"OilTest_Method\", axis=1), dummy_vars], axis=1)\n",
    "\n",
    "# Converting Objects to Ints\n",
    "# for col in X.columns:\n",
    "#     if pd.api.types.is_object_dtype(X[col]):\n",
    "#         X[col] = X[col].str.replace(',', '')\n",
    "#         X[col] = X[col].str.replace(' ', '')\n",
    "#         X[col] = X[col].astype(float)"
   ]
  },
  {
   "cell_type": "code",
   "execution_count": 12,
   "id": "c915037b",
   "metadata": {},
   "outputs": [
    {
     "name": "stdout",
     "output_type": "stream",
     "text": [
      "<class 'pandas.core.frame.DataFrame'>\n",
      "Int64Index: 10414 entries, 3627 to 16140\n",
      "Data columns (total 21 columns):\n",
      " #   Column                      Non-Null Count  Dtype  \n",
      "---  ------                      --------------  -----  \n",
      " 0   TrueVerticalDepth_FT        10414 non-null  float64\n",
      " 1   MeasuredDepth_FT            10414 non-null  float64\n",
      " 2   UpperPerforation_FT         10414 non-null  float64\n",
      " 3   LowerPerforation_FT         10414 non-null  float64\n",
      " 4   PerforationInterval_FT      10414 non-null  float64\n",
      " 5   LateralLength_FT            10414 non-null  float64\n",
      " 6   ProppantLoad_LBSPerGAL      10414 non-null  float64\n",
      " 7   ProppantIntensity_LBSPerFT  10414 non-null  float64\n",
      " 8   TotalProppant_LBS           10414 non-null  float64\n",
      " 9   TotalWaterPumped_GAL        10414 non-null  float64\n",
      " 10  WaterIntensity_GALPerFT     10414 non-null  float64\n",
      " 11  TotalFluidPumped_BBL        10414 non-null  float64\n",
      " 12  FluidIntensity_BBLPerFT     10414 non-null  float64\n",
      " 13  AcidVolume_BBL              10414 non-null  float64\n",
      " 14  OilTest_Method_FLOWING      10414 non-null  float64\n",
      " 15  OilTest_Method_GAS LIFT     10414 non-null  float64\n",
      " 16  OilTest_Method_PUMPING      10414 non-null  float64\n",
      " 17  FractureStages              282 non-null    float64\n",
      " 18  AvgStageSpacing_FT          282 non-null    float64\n",
      " 19  InitialProductionDateNum    10414 non-null  float64\n",
      " 20  DrillingStartDateNum        10414 non-null  float64\n",
      "dtypes: float64(21)\n",
      "memory usage: 1.7 MB\n"
     ]
    }
   ],
   "source": [
    "X.info()"
   ]
  },
  {
   "cell_type": "code",
   "execution_count": 13,
   "id": "0ddc68d0",
   "metadata": {},
   "outputs": [
    {
     "data": {
      "text/html": [
       "<div>\n",
       "<style scoped>\n",
       "    .dataframe tbody tr th:only-of-type {\n",
       "        vertical-align: middle;\n",
       "    }\n",
       "\n",
       "    .dataframe tbody tr th {\n",
       "        vertical-align: top;\n",
       "    }\n",
       "\n",
       "    .dataframe thead th {\n",
       "        text-align: right;\n",
       "    }\n",
       "</style>\n",
       "<table border=\"1\" class=\"dataframe\">\n",
       "  <thead>\n",
       "    <tr style=\"text-align: right;\">\n",
       "      <th></th>\n",
       "      <th>TrueVerticalDepth_FT</th>\n",
       "      <th>MeasuredDepth_FT</th>\n",
       "      <th>UpperPerforation_FT</th>\n",
       "      <th>LowerPerforation_FT</th>\n",
       "      <th>PerforationInterval_FT</th>\n",
       "      <th>LateralLength_FT</th>\n",
       "      <th>ProppantLoad_LBSPerGAL</th>\n",
       "      <th>ProppantIntensity_LBSPerFT</th>\n",
       "      <th>TotalProppant_LBS</th>\n",
       "      <th>TotalWaterPumped_GAL</th>\n",
       "      <th>WaterIntensity_GALPerFT</th>\n",
       "      <th>TotalFluidPumped_BBL</th>\n",
       "      <th>FluidIntensity_BBLPerFT</th>\n",
       "      <th>AcidVolume_BBL</th>\n",
       "      <th>OilTest_Method_FLOWING</th>\n",
       "      <th>OilTest_Method_GAS LIFT</th>\n",
       "      <th>OilTest_Method_PUMPING</th>\n",
       "      <th>FractureStages</th>\n",
       "      <th>AvgStageSpacing_FT</th>\n",
       "      <th>InitialProductionDateNum</th>\n",
       "      <th>DrillingStartDateNum</th>\n",
       "    </tr>\n",
       "  </thead>\n",
       "  <tbody>\n",
       "    <tr>\n",
       "      <th>3627</th>\n",
       "      <td>8148.0</td>\n",
       "      <td>18402.0</td>\n",
       "      <td>8403.0</td>\n",
       "      <td>18066.0</td>\n",
       "      <td>9663.0</td>\n",
       "      <td>10002.0</td>\n",
       "      <td>1.14</td>\n",
       "      <td>1987.0</td>\n",
       "      <td>19201161.0</td>\n",
       "      <td>16909746.0</td>\n",
       "      <td>1750.0</td>\n",
       "      <td>402613.0</td>\n",
       "      <td>42.0</td>\n",
       "      <td>12154.000000</td>\n",
       "      <td>0.0</td>\n",
       "      <td>0.0</td>\n",
       "      <td>1.0</td>\n",
       "      <td>98.0</td>\n",
       "      <td>102.0</td>\n",
       "      <td>1.483229e+09</td>\n",
       "      <td>1.481587e+09</td>\n",
       "    </tr>\n",
       "    <tr>\n",
       "      <th>3628</th>\n",
       "      <td>6986.0</td>\n",
       "      <td>16791.0</td>\n",
       "      <td>7379.0</td>\n",
       "      <td>16711.0</td>\n",
       "      <td>9332.0</td>\n",
       "      <td>9436.0</td>\n",
       "      <td>1.05</td>\n",
       "      <td>2337.0</td>\n",
       "      <td>21805810.0</td>\n",
       "      <td>20708700.0</td>\n",
       "      <td>2219.0</td>\n",
       "      <td>493064.0</td>\n",
       "      <td>53.0</td>\n",
       "      <td>516.000000</td>\n",
       "      <td>1.0</td>\n",
       "      <td>0.0</td>\n",
       "      <td>0.0</td>\n",
       "      <td>58.0</td>\n",
       "      <td>163.0</td>\n",
       "      <td>1.483229e+09</td>\n",
       "      <td>1.476058e+09</td>\n",
       "    </tr>\n",
       "    <tr>\n",
       "      <th>3629</th>\n",
       "      <td>8249.0</td>\n",
       "      <td>19099.0</td>\n",
       "      <td>1266.0</td>\n",
       "      <td>18967.0</td>\n",
       "      <td>17701.0</td>\n",
       "      <td>10400.0</td>\n",
       "      <td>1.06</td>\n",
       "      <td>1153.0</td>\n",
       "      <td>20414518.0</td>\n",
       "      <td>19331886.0</td>\n",
       "      <td>1092.0</td>\n",
       "      <td>460283.0</td>\n",
       "      <td>26.0</td>\n",
       "      <td>1990.000000</td>\n",
       "      <td>0.0</td>\n",
       "      <td>0.0</td>\n",
       "      <td>1.0</td>\n",
       "      <td>55.0</td>\n",
       "      <td>189.0</td>\n",
       "      <td>1.483229e+09</td>\n",
       "      <td>1.479082e+09</td>\n",
       "    </tr>\n",
       "    <tr>\n",
       "      <th>3630</th>\n",
       "      <td>7869.0</td>\n",
       "      <td>18512.0</td>\n",
       "      <td>8172.0</td>\n",
       "      <td>18370.0</td>\n",
       "      <td>10198.0</td>\n",
       "      <td>10354.0</td>\n",
       "      <td>1.07</td>\n",
       "      <td>2007.0</td>\n",
       "      <td>20470570.0</td>\n",
       "      <td>19179040.0</td>\n",
       "      <td>1881.0</td>\n",
       "      <td>456644.0</td>\n",
       "      <td>45.0</td>\n",
       "      <td>2035.000000</td>\n",
       "      <td>0.0</td>\n",
       "      <td>0.0</td>\n",
       "      <td>1.0</td>\n",
       "      <td>55.0</td>\n",
       "      <td>188.0</td>\n",
       "      <td>1.483229e+09</td>\n",
       "      <td>1.478995e+09</td>\n",
       "    </tr>\n",
       "    <tr>\n",
       "      <th>3631</th>\n",
       "      <td>8406.0</td>\n",
       "      <td>15530.0</td>\n",
       "      <td>1005.0</td>\n",
       "      <td>15405.0</td>\n",
       "      <td>14400.0</td>\n",
       "      <td>6656.0</td>\n",
       "      <td>0.88</td>\n",
       "      <td>904.0</td>\n",
       "      <td>13016408.0</td>\n",
       "      <td>14852922.0</td>\n",
       "      <td>1031.0</td>\n",
       "      <td>353641.0</td>\n",
       "      <td>25.0</td>\n",
       "      <td>892.285714</td>\n",
       "      <td>0.0</td>\n",
       "      <td>1.0</td>\n",
       "      <td>0.0</td>\n",
       "      <td>45.0</td>\n",
       "      <td>148.0</td>\n",
       "      <td>1.483229e+09</td>\n",
       "      <td>1.468195e+09</td>\n",
       "    </tr>\n",
       "  </tbody>\n",
       "</table>\n",
       "</div>"
      ],
      "text/plain": [
       "      TrueVerticalDepth_FT  MeasuredDepth_FT  UpperPerforation_FT  \\\n",
       "3627                8148.0           18402.0               8403.0   \n",
       "3628                6986.0           16791.0               7379.0   \n",
       "3629                8249.0           19099.0               1266.0   \n",
       "3630                7869.0           18512.0               8172.0   \n",
       "3631                8406.0           15530.0               1005.0   \n",
       "\n",
       "      LowerPerforation_FT  PerforationInterval_FT  LateralLength_FT  \\\n",
       "3627              18066.0                  9663.0           10002.0   \n",
       "3628              16711.0                  9332.0            9436.0   \n",
       "3629              18967.0                 17701.0           10400.0   \n",
       "3630              18370.0                 10198.0           10354.0   \n",
       "3631              15405.0                 14400.0            6656.0   \n",
       "\n",
       "      ProppantLoad_LBSPerGAL  ProppantIntensity_LBSPerFT  TotalProppant_LBS  \\\n",
       "3627                    1.14                      1987.0         19201161.0   \n",
       "3628                    1.05                      2337.0         21805810.0   \n",
       "3629                    1.06                      1153.0         20414518.0   \n",
       "3630                    1.07                      2007.0         20470570.0   \n",
       "3631                    0.88                       904.0         13016408.0   \n",
       "\n",
       "      TotalWaterPumped_GAL  WaterIntensity_GALPerFT  TotalFluidPumped_BBL  \\\n",
       "3627            16909746.0                   1750.0              402613.0   \n",
       "3628            20708700.0                   2219.0              493064.0   \n",
       "3629            19331886.0                   1092.0              460283.0   \n",
       "3630            19179040.0                   1881.0              456644.0   \n",
       "3631            14852922.0                   1031.0              353641.0   \n",
       "\n",
       "      FluidIntensity_BBLPerFT  AcidVolume_BBL  OilTest_Method_FLOWING  \\\n",
       "3627                     42.0    12154.000000                     0.0   \n",
       "3628                     53.0      516.000000                     1.0   \n",
       "3629                     26.0     1990.000000                     0.0   \n",
       "3630                     45.0     2035.000000                     0.0   \n",
       "3631                     25.0      892.285714                     0.0   \n",
       "\n",
       "      OilTest_Method_GAS LIFT  OilTest_Method_PUMPING  FractureStages  \\\n",
       "3627                      0.0                     1.0            98.0   \n",
       "3628                      0.0                     0.0            58.0   \n",
       "3629                      0.0                     1.0            55.0   \n",
       "3630                      0.0                     1.0            55.0   \n",
       "3631                      1.0                     0.0            45.0   \n",
       "\n",
       "      AvgStageSpacing_FT  InitialProductionDateNum  DrillingStartDateNum  \n",
       "3627               102.0              1.483229e+09          1.481587e+09  \n",
       "3628               163.0              1.483229e+09          1.476058e+09  \n",
       "3629               189.0              1.483229e+09          1.479082e+09  \n",
       "3630               188.0              1.483229e+09          1.478995e+09  \n",
       "3631               148.0              1.483229e+09          1.468195e+09  "
      ]
     },
     "execution_count": 13,
     "metadata": {},
     "output_type": "execute_result"
    }
   ],
   "source": [
    "X.head()"
   ]
  },
  {
   "cell_type": "code",
   "execution_count": 53,
   "id": "68a52292",
   "metadata": {},
   "outputs": [],
   "source": [
    "# Creating the test and train split using seed 99\n",
    "# Quite nice how we can just use the exact same X set\n",
    "X_train, X_test, y_train_w_3, y_test_w_3 = train_test_split(X, y_w_3, test_size=0.2, random_state=99)\n",
    "X_train, X_test, y_train_g_3, y_test_g_3 = train_test_split(X, y_g_3, test_size=0.2, random_state=99)\n",
    "X_train, X_test, y_train_o_3, y_test_o_3 = train_test_split(X, y_o_3, test_size=0.2, random_state=99)\n",
    "\n",
    "X_train, X_test, y_train_w_6, y_test_w_6 = train_test_split(X, y_w_6, test_size=0.2, random_state=99)\n",
    "X_train, X_test, y_train_g_6, y_test_g_6 = train_test_split(X, y_g_6, test_size=0.2, random_state=99)\n",
    "X_train, X_test, y_train_o_6, y_test_o_6 = train_test_split(X, y_o_6, test_size=0.2, random_state=99)\n",
    "\n",
    "X_train, X_test, y_train_w_9, y_test_w_9 = train_test_split(X, y_w_9, test_size=0.2, random_state=99)\n",
    "X_train, X_test, y_train_g_9, y_test_g_9 = train_test_split(X, y_g_9, test_size=0.2, random_state=99)\n",
    "X_train, X_test, y_train_o_9, y_test_o_9 = train_test_split(X, y_o_9, test_size=0.2, random_state=99)\n",
    "\n",
    "X_train, X_test, y_train_w_12, y_test_w_12 = train_test_split(X, y_w_12, test_size=0.2, random_state=99)\n",
    "X_train, X_test, y_train_g_12, y_test_g_12 = train_test_split(X, y_g_12, test_size=0.2, random_state=99)\n",
    "X_train, X_test, y_train_o_12, y_test_o_12 = train_test_split(X, y_o_12, test_size=0.2, random_state=99)\n",
    "\n",
    "# X_train, X_test, y_train_w_36, y_test_w_36 = train_test_split(X, y_w_36, test_size=0.2, random_state=99)\n",
    "# X_train, X_test, y_train_g_36, y_test_g_36 = train_test_split(X, y_g_36, test_size=0.2, random_state=99)\n",
    "# X_train, X_test, y_train_o_36, y_test_o_36 = train_test_split(X, y_o_36, test_size=0.2, random_state=99)\n",
    "\n",
    "X_train, X_test, y_train_w_peak, y_test_w_peak = train_test_split(X, y_w_peak, test_size=0.2, random_state=99)\n",
    "X_train, X_test, y_train_g_peak, y_test_g_peak = train_test_split(X, y_g_peak, test_size=0.2, random_state=99)\n",
    "X_train, X_test, y_train_o_peak, y_test_o_peak = train_test_split(X, y_o_peak, test_size=0.2, random_state=99)\n",
    "\n",
    "X_train, X_test, y_train_w_cum, y_test_w_cum = train_test_split(X, y_w_cum, test_size=0.2, random_state=99)\n",
    "X_train, X_test, y_train_g_cum, y_test_g_cum = train_test_split(X, y_g_cum, test_size=0.2, random_state=99)\n",
    "X_train, X_test, y_train_o_cum, y_test_o_cum = train_test_split(X, y_o_cum, test_size=0.2, random_state=99)\n",
    "\n",
    "\n"
   ]
  },
  {
   "cell_type": "markdown",
   "id": "4e22d41f",
   "metadata": {},
   "source": [
    "## Boosted Tree Model\n",
    "\n",
    "Scikit-learn reference:\n",
    "\n",
    "https://scikit-learn.org/stable/modules/generated/sklearn.ensemble.GradientBoostingRegressor.html#sklearn-ensemble-gradientboostingregressor"
   ]
  },
  {
   "cell_type": "markdown",
   "id": "7f597178",
   "metadata": {},
   "source": [
    "### Doing a GridSearchCV\n"
   ]
  },
  {
   "cell_type": "code",
   "execution_count": 15,
   "id": "ca21f749",
   "metadata": {},
   "outputs": [],
   "source": [
    "# # Define the parameter grid\n",
    "# param_grid = {\n",
    "#     'learning_rate': [0.01, 0.75, 0.1, 0.25],\n",
    "#     'n_estimators': [300, 400, 500, 750],\n",
    "#     'max_depth': [5, 7, 9, 11],\n",
    "#     'alpha': [0.1, 0.5, 0.75, 0.999]\n",
    "# }\n",
    "# gb_mod_t = XGBRegressor(random_state=99)\n",
    "# grid_search = GridSearchCV(estimator=gb_mod_t, param_grid=param_grid, cv = 2, scoring='r2')\n",
    "# # Fit the grid search to your data\n"
   ]
  },
  {
   "cell_type": "code",
   "execution_count": 16,
   "id": "d8fb7bf1",
   "metadata": {},
   "outputs": [],
   "source": [
    "# Grid Search, which is worth skipping\n",
    "\n",
    "# grid_search.fit(X_train, y_train_w_3)"
   ]
  },
  {
   "cell_type": "code",
   "execution_count": 17,
   "id": "97d26f24",
   "metadata": {},
   "outputs": [],
   "source": [
    "# Get the best model and its parameters\n",
    "# best_model = grid_search.best_estimator_\n",
    "# best_params = grid_search.best_params_\n",
    "\n",
    "# Print the best parameters and score\n",
    "# print(\"Best parameters:\", best_params)\n",
    "# print(\"Best score:\", grid_search.best_score_)"
   ]
  },
  {
   "cell_type": "code",
   "execution_count": 18,
   "id": "78e62958",
   "metadata": {},
   "outputs": [],
   "source": [
    "# pd.DataFrame(grid_search.cv_results_)"
   ]
  },
  {
   "cell_type": "markdown",
   "id": "948b430a",
   "metadata": {},
   "source": [
    "### Doing a Much faster RandomSearchCV"
   ]
  },
  {
   "cell_type": "code",
   "execution_count": 19,
   "id": "45af9cd7",
   "metadata": {},
   "outputs": [],
   "source": [
    "# Define distributions for hyperparameters\n",
    "# from scipy.stats import uniform, randint\n",
    "# param_dist = {\n",
    "#     'learning_rate': uniform(0.05, 0.80),\n",
    "#     'n_estimators': randint(300, 1000),\n",
    "#     'max_depth': randint(5, 13),\n",
    "#     'alpha': uniform(0.2, 0.8)\n",
    "# }"
   ]
  },
  {
   "cell_type": "code",
   "execution_count": 20,
   "id": "257c2dda",
   "metadata": {},
   "outputs": [],
   "source": [
    "# # Specify the number of iterations for random search\n",
    "# n_iter_search = 10\n",
    "\n",
    "# # Create the RandomizedSearchCV object\n",
    "# random_search = RandomizedSearchCV(estimator=gb_mod_t, param_distributions=param_dist, n_iter=n_iter_search, cv=5)"
   ]
  },
  {
   "cell_type": "code",
   "execution_count": 21,
   "id": "8866967b",
   "metadata": {},
   "outputs": [],
   "source": [
    "# random_search.fit(X_train, y_train_w_3)"
   ]
  },
  {
   "cell_type": "code",
   "execution_count": 22,
   "id": "5d406611",
   "metadata": {},
   "outputs": [],
   "source": [
    "# best_model = random_search.best_estimator_\n",
    "# best_score = random_search.best_score_\n",
    "# # \n",
    "# # Print the best parameters and score\n",
    "# print(\"Best parameters:\", best_params)\n",
    "# print(\"Best score:\", best_score)"
   ]
  },
  {
   "cell_type": "code",
   "execution_count": 23,
   "id": "d71b0ea4",
   "metadata": {},
   "outputs": [],
   "source": [
    "# pd.DataFrame(random_search.cv_results_)"
   ]
  },
  {
   "cell_type": "markdown",
   "id": "15c5c2f7",
   "metadata": {},
   "source": [
    "### We will do Water First"
   ]
  },
  {
   "cell_type": "code",
   "execution_count": 24,
   "id": "925fd617",
   "metadata": {},
   "outputs": [],
   "source": [
    "# gb_mod_0 = XGBRegressor(learning_rate=0.1, n_estimators= 300, max_depth = 7, random_state=99, alpha = 0.99)\n",
    "# gb_mod_0.fit(X_train, y_train_w_3)\n",
    "# print(\"XG Boost (default parameters) Train R2: \", gb_mod_0.score(X_train, y_train_w_3))\n",
    "# print(\"XG Boost (default parameters) Test R2: \", gb_mod_0.score(X_test, y_test_w_3))"
   ]
  },
  {
   "cell_type": "code",
   "execution_count": 25,
   "id": "7ed5905b",
   "metadata": {},
   "outputs": [],
   "source": [
    "# gb_mod_1 = XGBRegressor(learning_rate=0.01, n_estimators= 300, max_depth = 7, random_state=99, alpha = 0.99)\n",
    "# gb_mod_1.fit(X_train, y_train_w_3)\n",
    "# print(\"XG Boost (default parameters) Train R2: \", gb_mod_1.score(X_train, y_train_w_3))\n",
    "# print(\"XG Boost (default parameters) Test R2: \", gb_mod_1.score(X_test, y_test_w_3))"
   ]
  },
  {
   "cell_type": "code",
   "execution_count": 26,
   "id": "c0825908",
   "metadata": {},
   "outputs": [],
   "source": [
    "# gb_mod_2 = XGBRegressor(learning_rate=1, n_estimators= 300, max_depth = 7, random_state=99, alpha = 0.99)\n",
    "# gb_mod_2.fit(X_train, y_train_w_3)\n",
    "# print(\"XG Boost (default parameters) Train R2: \", gb_mod_2.score(X_train, y_train_w_3))\n",
    "# print(\"XG Boost (default parameters) Test R2: \", gb_mod_2.score(X_test, y_test_w_3))"
   ]
  },
  {
   "cell_type": "code",
   "execution_count": 27,
   "id": "ef66b85f",
   "metadata": {},
   "outputs": [],
   "source": [
    "# gb_mod_3 = XGBRegressor(learning_rate=0.1, n_estimators= 300, max_depth = 9, random_state=99, alpha = 0.99)\n",
    "# gb_mod_3.fit(X_train, y_train_w_3)\n",
    "# print(\"XG Boost (default parameters) Train R2: \", gb_mod_3.score(X_train, y_train_w_3))\n",
    "# print(\"XG Boost (default parameters) Test R2: \", gb_mod_3.score(X_test, y_test_w_3))"
   ]
  },
  {
   "cell_type": "code",
   "execution_count": 28,
   "id": "345b2c00",
   "metadata": {},
   "outputs": [],
   "source": [
    "# gb_mod_4 = XGBRegressor(learning_rate=0.075, n_estimators= 500, max_depth = 11, random_state=99, alpha = 0.99)\n",
    "# gb_mod_4.fit(X_train, y_train_w_3)\n",
    "# print(\"XG Boost (default parameters) Train R2: \", gb_mod_4.score(X_train, y_train_w_3))\n",
    "# print(\"XG Boost (default parameters) Test R2: \", gb_mod_4.score(X_test, y_test_w_3))"
   ]
  },
  {
   "cell_type": "code",
   "execution_count": 29,
   "id": "99d3bcd4",
   "metadata": {},
   "outputs": [],
   "source": [
    "# gb_mod_5 = XGBRegressor(learning_rate=0.075, n_estimators= 500, max_depth = 9, random_state=99, alpha = 0.99)\n",
    "# gb_mod_5.fit(X_train, y_train_w_3)\n",
    "# print(\"XG Boost (default parameters) Train R2: \", gb_mod_5.score(X_train, y_train_w_3))\n",
    "# print(\"XG Boost (default parameters) Test R2: \", gb_mod_5.score(X_test, y_test_w_3))"
   ]
  },
  {
   "cell_type": "code",
   "execution_count": 30,
   "id": "cf08ce57",
   "metadata": {},
   "outputs": [],
   "source": [
    "# gb_mod_6 = XGBRegressor(learning_rate=0.075, n_estimators= 500, max_depth = 9, random_state=99, alpha = 0.99)\n",
    "# gb_mod_6.fit(X_train, y_train_w_3)\n",
    "# print(\"XG Boost (default parameters) Train R2: \", gb_mod_6.score(X_train, y_train_w_3))\n",
    "# print(\"XG Boost (default parameters) Test R2: \", gb_mod_6.score(X_test, y_test_w_3))"
   ]
  },
  {
   "cell_type": "markdown",
   "id": "4b261283",
   "metadata": {},
   "source": [
    "### Fucking Oil Man"
   ]
  },
  {
   "cell_type": "code",
   "execution_count": 31,
   "id": "d6763f1c",
   "metadata": {},
   "outputs": [],
   "source": [
    "# gb_mod_7 = XGBRegressor(learning_rate=0.075, n_estimators= 400, max_depth = 7, random_state=99, alpha = 0.5)\n",
    "# gb_mod_7.fit(X_train, y_train_o_3)\n",
    "# print(\"XG Boost (default parameters) Train R2: \", gb_mod_7.score(X_train, y_train_o_3))\n",
    "# print(\"XG Boost (default parameters) Test R2: \", gb_mod_7.score(X_test, y_test_o_3))"
   ]
  },
  {
   "cell_type": "code",
   "execution_count": 32,
   "id": "c944c029",
   "metadata": {},
   "outputs": [],
   "source": [
    "# gb_mod_8 = XGBRegressor(learning_rate=0.075, n_estimators= 500, max_depth = 10, random_state=99, alpha = 0.5)\n",
    "# gb_mod_8.fit(X_train, y_train_o_3)\n",
    "# print(\"XG Boost (default parameters) Train R2: \", gb_mod_8.score(X_train, y_train_o_3))\n",
    "# print(\"XG Boost (default parameters) Test R2: \", gb_mod_8.score(X_test, y_test_o_3))"
   ]
  },
  {
   "cell_type": "code",
   "execution_count": 33,
   "id": "9b189658",
   "metadata": {},
   "outputs": [],
   "source": [
    "# gb_mod_9 = XGBRegressor(learning_rate=0.1, n_estimators= 700, max_depth = 10, random_state=99, alpha = 0.5)\n",
    "# gb_mod_9.fit(X_train, y_train_o_3)\n",
    "# print(\"XG Boost (default parameters) Train R2: \", gb_mod_9.score(X_train, y_train_o_3))\n",
    "# print(\"XG Boost (default parameters) Test R2: \", gb_mod_9.score(X_test, y_test_o_3))"
   ]
  },
  {
   "cell_type": "code",
   "execution_count": 34,
   "id": "26d9a6d1",
   "metadata": {},
   "outputs": [],
   "source": [
    "# gb_mod_10 = XGBRegressor(learning_rate=0.1, n_estimators= 500, max_depth = 10, random_state=99, alpha = 0.5)\n",
    "# gb_mod_10.fit(X_train, y_train_o_3)\n",
    "# print(\"XG Boost (default parameters) Train R2: \", gb_mod_10.score(X_train, y_train_o_3))\n",
    "# print(\"XG Boost (default parameters) Test R2: \", gb_mod_10.score(X_test, y_test_o_3))"
   ]
  },
  {
   "cell_type": "code",
   "execution_count": 54,
   "id": "e24ae141",
   "metadata": {},
   "outputs": [
    {
     "name": "stdout",
     "output_type": "stream",
     "text": [
      "XG Boost (default parameters) Train R2:  0.9777483999660045\n",
      "XG Boost (default parameters) Test R2:  0.45892807803904634\n"
     ]
    }
   ],
   "source": [
    "# One model to run test on \n",
    "gb_mod_11 = XGBRegressor(learning_rate=0.035, n_estimators= 450, max_depth = 10, random_state=99, alpha = 0.6)\n",
    "gb_mod_11.fit(X_train, y_train_o_3)\n",
    "print(\"XG Boost (default parameters) Train R2: \", gb_mod_11.score(X_train, y_train_o_3))\n",
    "print(\"XG Boost (default parameters) Test R2: \", gb_mod_11.score(X_test, y_test_o_3))"
   ]
  },
  {
   "cell_type": "code",
   "execution_count": 36,
   "id": "e143e288",
   "metadata": {},
   "outputs": [
    {
     "name": "stdout",
     "output_type": "stream",
     "text": [
      "XG Boost (learning rate =  0.06 ) Train R2:  0.9954401103619667\n",
      "XG Boost (learning rate =  0.06 ) Test R2:  0.36885808252714547\n",
      "XG Boost (learning rate =  0.065 ) Train R2:  0.9973279278001237\n",
      "XG Boost (learning rate =  0.065 ) Test R2:  0.3651556936681196\n",
      "XG Boost (learning rate =  0.06999999999999999 ) Train R2:  0.9978241555986612\n",
      "XG Boost (learning rate =  0.06999999999999999 ) Test R2:  0.35973269839941213\n",
      "XG Boost (learning rate =  0.075 ) Train R2:  0.9986247909837608\n",
      "XG Boost (learning rate =  0.075 ) Test R2:  0.3504031372213655\n",
      "XG Boost (learning rate =  0.08 ) Train R2:  0.9989698918425973\n",
      "XG Boost (learning rate =  0.08 ) Test R2:  0.3667961527298449\n",
      "XG Boost (learning rate =  0.08499999999999999 ) Train R2:  0.9993115996683736\n",
      "XG Boost (learning rate =  0.08499999999999999 ) Test R2:  0.3589828895829472\n",
      "XG Boost (learning rate =  0.09 ) Train R2:  0.999388599222156\n",
      "XG Boost (learning rate =  0.09 ) Test R2:  0.36223221912990355\n",
      "XG Boost (learning rate =  0.095 ) Train R2:  0.9995392165552719\n",
      "XG Boost (learning rate =  0.095 ) Test R2:  0.3622600694477991\n",
      "XG Boost (learning rate =  0.1 ) Train R2:  0.9996780499382608\n",
      "XG Boost (learning rate =  0.1 ) Test R2:  0.35415828055282794\n",
      "XG Boost (learning rate =  0.105 ) Train R2:  0.999805548560204\n",
      "XG Boost (learning rate =  0.105 ) Test R2:  0.35339135170338054\n"
     ]
    }
   ],
   "source": [
    "# Create an empty dictionary to store XGBRegressor instances\n",
    "gb_mod_10 = {}\n",
    "\n",
    "# Loop through the range and create/update dictionary entries\n",
    "for num in range(10):\n",
    "    var_name = f'gb_mod_10_{num}'  # Construct variable name dynamically\n",
    "    gb_mod_10[var_name] = XGBRegressor(learning_rate=0.06 + (0.005 * num), n_estimators=500, max_depth=10, random_state=99, alpha=0.5)\n",
    "    gb_mod_10[var_name].fit(X_train, y_train_o_3)\n",
    "    print(\"XG Boost (learning rate = \",0.06 + (0.005 * num),\") Train R2: \", gb_mod_10[var_name].score(X_train, y_train_o_3))\n",
    "    print(\"XG Boost (learning rate = \",0.06 + (0.005 * num),\") Test R2: \", gb_mod_10[var_name].score(X_test, y_test_o_3))"
   ]
  },
  {
   "cell_type": "code",
   "execution_count": null,
   "id": "a1fd06a8",
   "metadata": {},
   "outputs": [],
   "source": [
    "# Create an empty dictionary to store XGBRegressor instances\n",
    "gb_mod_10 = {}\n",
    "\n",
    "# Loop through the range and create/update dictionary entries\n",
    "for num in range(6):\n",
    "    var_name = f'gb_mod_10_{num}'  # Construct variable name dynamically\n",
    "    gb_mod_10[var_name] = XGBRegressor(learning_rate=0.03 + (0.005 * num), n_estimators=500, max_depth=10, random_state=99, alpha=0.5)\n",
    "    gb_mod_10[var_name].fit(X_train, y_train_o_3)\n",
    "    print(\"XG Boost (learning rate = \",0.03 + (0.005 * num),\") Train R2: \", gb_mod_10[var_name].score(X_train, y_train_o_3))\n",
    "    print(\"XG Boost (learning rate = \",0.03 + (0.005 * num),\") Test R2: \", gb_mod_10[var_name].score(X_test, y_test_o_3))"
   ]
  },
  {
   "cell_type": "code",
   "execution_count": null,
   "id": "b827b54d",
   "metadata": {},
   "outputs": [],
   "source": [
    "lr = 0.035 # just optimized for this\n",
    "md = 10\n",
    "est = 200\n",
    "alp = 0.5\n",
    "\n",
    "# Create an empty dictionary to store XGBRegressor instances\n",
    "gb_mod_10 = {}\n",
    "\n",
    "# Loop through the range and create/update dictionary entries\n",
    "for num in range(10):\n",
    "    var_name = f'gb_mod_10_{num}'  # Construct variable name dynamically\n",
    "    gb_mod_10[var_name] = XGBRegressor(learning_rate=lr, n_estimators=est + (50 * num), max_depth=md, random_state=99, alpha=alp)\n",
    "    gb_mod_10[var_name].fit(X_train, y_train_o_3)\n",
    "    print(\"XG Boost ( estimators = \",est + (50 * num),\") Train R2: \", gb_mod_10[var_name].score(X_train, y_train_o_3))\n",
    "    print(\"XG Boost ( estimators = \",est + (50 * num),\") Test R2: \", gb_mod_10[var_name].score(X_test, y_test_o_3))"
   ]
  },
  {
   "cell_type": "code",
   "execution_count": null,
   "id": "de518167",
   "metadata": {},
   "outputs": [],
   "source": [
    "lr = 0.035  #optimized\n",
    "md = 10     #optiimized\n",
    "est = 450   #optimized\n",
    "alp = 0.0\n",
    "#lam = 1\n",
    "\n",
    "# Create an empty dictionary to store XGBRegressor instances\n",
    "gb_mod_10 = {}\n",
    "\n",
    "# Loop through the range and create/update dictionary entries\n",
    "for num in range(6):\n",
    "    var_name = f'gb_mod_10_{num}'  # Construct variable name dynamically\n",
    "    gb_mod_10[var_name] = XGBRegressor(learning_rate=lr, n_estimators=est, max_depth=md, random_state=99, alpha=alp + (0.2*num))\n",
    "    gb_mod_10[var_name].fit(X_train, y_train_o_3)\n",
    "    print(\"XG Boost ( alpha = \", alp + (0.2*num),\") Train R2: \", gb_mod_10[var_name].score(X_train, y_train_o_3))\n",
    "    print(\"XG Boost ( alpha = \", alp + (0.2*num),\") Test R2: \", gb_mod_10[var_name].score(X_test, y_test_o_3))"
   ]
  },
  {
   "cell_type": "code",
   "execution_count": null,
   "id": "c66274ac",
   "metadata": {},
   "outputs": [],
   "source": [
    "lr = 0.035  #optimized\n",
    "md = 10     #optiimized\n",
    "est = 450   #optimized\n",
    "alp = 0.6   #optimized\n",
    "lam = 0.25\n",
    "\n",
    "# Create an empty dictionary to store XGBRegressor instances\n",
    "gb_mod_10 = {}\n",
    "\n",
    "# Loop through the range and create/update dictionary entries\n",
    "for num in range(8):\n",
    "    var_name = f'gb_mod_10_{num}'  # Construct variable name dynamically\n",
    "    gb_mod_10[var_name] = XGBRegressor(learning_rate=lr, n_estimators=est, max_depth=md, random_state=99, alpha=alp, reg_lambda = lam + (0.25*num))\n",
    "    gb_mod_10[var_name].fit(X_train, y_train_o_3)\n",
    "    print(\"XG Boost ( lambda = \", lam + (0.25*num),\") Train R2: \", gb_mod_10[var_name].score(X_train, y_train_o_3))\n",
    "    print(\"XG Boost ( lambda = \", lam + (0.25*num),\") Test R2: \", gb_mod_10[var_name].score(X_test, y_test_o_3))"
   ]
  },
  {
   "cell_type": "code",
   "execution_count": null,
   "id": "23fc3e70",
   "metadata": {},
   "outputs": [],
   "source": [
    "lr = 0.035  #optimized\n",
    "md = 10     #optiimized\n",
    "est = 450   #optimized\n",
    "alp = 0.6   #optimized\n",
    "lam = 1\n",
    "\n",
    "# Create an empty dictionary to store XGBRegressor instances\n",
    "gb_mod_10 = {}\n",
    "\n",
    "# Loop through the range and create/update dictionary entries\n",
    "for num in range(1):\n",
    "    var_name = f'gb_mod_10_{num}'  # Construct variable name dynamically\n",
    "    gb_mod_10[var_name] = XGBRegressor(learning_rate=lr, n_estimators=est, max_depth=md, random_state=99, alpha=alp)\n",
    "    gb_mod_10[var_name].fit(X_train, y_train_o_3)\n",
    "    print(\"XG Boost ( lambda = \", lam ,\") Train R2: \", gb_mod_10[var_name].score(X_train, y_train_o_3))\n",
    "    print(\"XG Boost ( lambda = \", lam ,\") Test R2: \", gb_mod_10[var_name].score(X_test, y_test_o_3))"
   ]
  },
  {
   "cell_type": "code",
   "execution_count": null,
   "id": "bb968b37",
   "metadata": {},
   "outputs": [],
   "source": [
    "X_train.head()"
   ]
  },
  {
   "cell_type": "code",
   "execution_count": null,
   "id": "26ec30a8",
   "metadata": {},
   "outputs": [],
   "source": [
    "from sklearn.metrics import mean_absolute_error, mean_squared_error, r2_score\n",
    "y_pred = gb_mod_11.predict(X_test)\n",
    "y_test = y_test_o_3\n",
    "\n",
    "mae = mean_absolute_error(y_test, y_pred)\n",
    "mse = mean_squared_error(y_test, y_pred)\n",
    "rmse = mean_squared_error(y_test, y_pred, squared=False)\n",
    "r2 = r2_score(y_test, y_pred)\n",
    "\n",
    "print(f\"Mean Absolute Error (MAE): {round(mae,2)}\")\n",
    "print(f\"Mean Squared Error (MSE): {round(mse,2)}\")\n",
    "print(f\"Root Mean Squared Error (RMSE): {round(rmse,2)}\")\n",
    "print(f\"R-squared (R²): {round(r2,6)}\")"
   ]
  },
  {
   "cell_type": "markdown",
   "id": "8199c147",
   "metadata": {},
   "source": [
    "## We have the optimized values below. Now we need to create a model for all time periods and all elements"
   ]
  },
  {
   "cell_type": "code",
   "execution_count": 55,
   "id": "c098f24a",
   "metadata": {},
   "outputs": [],
   "source": [
    "list_of_train_columns=[\n",
    "y_train_o_3,\n",
    "y_train_o_6,\n",
    "y_train_o_9,\n",
    "y_train_o_12,\n",
    "y_train_o_cum,\n",
    "y_train_o_peak,\n",
    "y_train_w_3,\n",
    "y_train_w_6,\n",
    "y_train_w_9,\n",
    "y_train_w_12,\n",
    "y_train_w_cum,\n",
    "y_train_w_peak,\n",
    "y_train_g_3,\n",
    "y_train_g_6,\n",
    "y_train_g_9,\n",
    "y_train_g_12,\n",
    "y_train_g_cum,\n",
    "y_train_g_peak\n",
    "]\n",
    "\n",
    "list_of_test_columns = [\n",
    "y_test_o_3,\n",
    "y_test_o_6,\n",
    "y_test_o_9,\n",
    "y_test_o_12,\n",
    "y_test_o_cum,\n",
    "y_test_o_peak,\n",
    "y_test_w_3,\n",
    "y_test_w_6,\n",
    "y_test_w_9,\n",
    "y_test_w_12,\n",
    "y_test_w_cum,\n",
    "y_test_w_peak,\n",
    "y_test_g_3,\n",
    "y_test_g_6,\n",
    "y_test_g_9,\n",
    "y_test_g_12,\n",
    "y_test_g_cum,\n",
    "y_test_g_peak\n",
    "]"
   ]
  },
  {
   "cell_type": "code",
   "execution_count": 56,
   "id": "27d37177",
   "metadata": {},
   "outputs": [],
   "source": [
    "display_list_columns=[\n",
    "'o_3',\n",
    "'o_6',\n",
    "'o_9',\n",
    "'o_12',\n",
    "'o_cum',\n",
    "'o_peak',\n",
    "'w_3',\n",
    "'w_6',\n",
    "'w_9',\n",
    "'w_12',\n",
    "'w_cum',\n",
    "'w_peak',\n",
    "'g_3',\n",
    "'g_6',\n",
    "'g_9',\n",
    "'g_12',\n",
    "'g_cum',\n",
    "'g_peak'\n",
    "]"
   ]
  },
  {
   "cell_type": "code",
   "execution_count": 57,
   "id": "79d1d584",
   "metadata": {},
   "outputs": [],
   "source": [
    "# Create a list of tuples by zipping train_list and test_list\n",
    "data_tuples = []\n",
    "for i in range(min(len(list_of_train_columns), len(list_of_test_columns))):\n",
    "    data_tuples.append((list_of_train_columns[i], list_of_test_columns[i]))"
   ]
  },
  {
   "cell_type": "code",
   "execution_count": 58,
   "id": "5159a941",
   "metadata": {},
   "outputs": [
    {
     "name": "stdout",
     "output_type": "stream",
     "text": [
      "XG Boost ( train set =  o_3 ) Train R2:  0.9777483999660045\n",
      "XG Boost ( test set =  o_3 ) Test R2:  0.45892807803904634\n",
      "XG Boost ( train set =  o_6 ) Train R2:  0.9788297954566882\n",
      "XG Boost ( test set =  o_6 ) Test R2:  0.5233932814392264\n",
      "XG Boost ( train set =  o_9 ) Train R2:  0.9798911348438443\n",
      "XG Boost ( test set =  o_9 ) Test R2:  0.5277602909405967\n",
      "XG Boost ( train set =  o_12 ) Train R2:  0.9828513707894755\n",
      "XG Boost ( test set =  o_12 ) Test R2:  0.5310669498638205\n",
      "XG Boost ( train set =  o_cum ) Train R2:  0.9773675874103723\n",
      "XG Boost ( test set =  o_cum ) Test R2:  0.37036395636336206\n",
      "XG Boost ( train set =  o_peak ) Train R2:  0.9778221184405635\n",
      "XG Boost ( test set =  o_peak ) Test R2:  0.25840449221182527\n",
      "XG Boost ( train set =  w_3 ) Train R2:  0.9767061765669651\n",
      "XG Boost ( test set =  w_3 ) Test R2:  0.297732554386662\n",
      "XG Boost ( train set =  w_6 ) Train R2:  0.9801319084056503\n",
      "XG Boost ( test set =  w_6 ) Test R2:  0.33923249930870525\n",
      "XG Boost ( train set =  w_9 ) Train R2:  0.9809293248101982\n",
      "XG Boost ( test set =  w_9 ) Test R2:  0.34731112327202884\n",
      "XG Boost ( train set =  w_12 ) Train R2:  0.9821980918160435\n",
      "XG Boost ( test set =  w_12 ) Test R2:  0.34857345927078853\n",
      "XG Boost ( train set =  w_cum ) Train R2:  0.9777544117651051\n",
      "XG Boost ( test set =  w_cum ) Test R2:  0.2818439691655883\n",
      "XG Boost ( train set =  w_peak ) Train R2:  0.978026431108281\n",
      "XG Boost ( test set =  w_peak ) Test R2:  0.3227467180379564\n",
      "XG Boost ( train set =  g_3 ) Train R2:  0.9798558447201688\n",
      "XG Boost ( test set =  g_3 ) Test R2:  0.3211283335305207\n",
      "XG Boost ( train set =  g_6 ) Train R2:  0.9790684744273477\n",
      "XG Boost ( test set =  g_6 ) Test R2:  0.3705849688905306\n",
      "XG Boost ( train set =  g_9 ) Train R2:  0.9792312265191196\n",
      "XG Boost ( test set =  g_9 ) Test R2:  0.37664508676004593\n",
      "XG Boost ( train set =  g_12 ) Train R2:  0.9781329864462964\n",
      "XG Boost ( test set =  g_12 ) Test R2:  0.3950245295081858\n",
      "XG Boost ( train set =  g_cum ) Train R2:  0.976433565828718\n",
      "XG Boost ( test set =  g_cum ) Test R2:  0.30737543643342924\n",
      "XG Boost ( train set =  g_peak ) Train R2:  0.9884556377986642\n",
      "XG Boost ( test set =  g_peak ) Test R2:  0.4630037207160709\n"
     ]
    }
   ],
   "source": [
    "lr = 0.035  #optimized\n",
    "md = 10     #optiimized\n",
    "est = 450   #optimized\n",
    "alp = 0.6   #optimized\n",
    "lam = 1     #optimized\n",
    "\n",
    "# Create an empty dictionary to store XGBRegressor instances\n",
    "boosted_models_list = {}\n",
    "\n",
    "# Loop through the range and create/update dictionary entries\n",
    "for i in range(min(len(list_of_train_columns), len(list_of_test_columns))):\n",
    "    var_name = f'xgb_mod_{data_tuples[i][0]}'  # Construct variable name dynamically\n",
    "    boosted_models_list[var_name] = XGBRegressor(learning_rate=lr, n_estimators=est, max_depth=md, random_state=99, alpha=alp)\n",
    "    train_ref = data_tuples[i][0]\n",
    "    test_ref = data_tuples[i][1]\n",
    "    boosted_models_list[var_name].fit(X_train, train_ref)\n",
    "    print(\"XG Boost ( train set = \", display_list_columns[i],\") Train R2: \", boosted_models_list[var_name].score(X_train, train_ref))\n",
    "    print(\"XG Boost ( test set = \", display_list_columns[i],\") Test R2: \", boosted_models_list[var_name].score(X_test, test_ref))"
   ]
  },
  {
   "cell_type": "markdown",
   "id": "85f42433",
   "metadata": {},
   "source": [
    "## Let's make some fucking charts"
   ]
  },
  {
   "cell_type": "code",
   "execution_count": null,
   "id": "97f7027d",
   "metadata": {},
   "outputs": [],
   "source": [
    "feature_names = X_train.columns\n",
    "# Extract feature importances from the model\n",
    "importances = gb_mod_11.feature_importances_\n",
    "# Sort features and importances in descending order of importance\n",
    "sorted_idx = importances.argsort()[::-1]\n",
    "sorted_names = [feature_names[i] for i in sorted_idx][::-1]\n",
    "sorted_importances = importances[sorted_idx][::-1]\n",
    "\n",
    "# Create the bar plot\n",
    "plt.figure(figsize=(10, 6))  # Adjust figure size as needed\n",
    "plt.barh(sorted_names, sorted_importances)\n",
    "plt.xlabel('Feature Importance')\n",
    "plt.ylabel('Feature Name')\n",
    "plt.title('Feature Importance for Gradient Boosting Model')\n",
    "plt.xticks(rotation=45, ha='right', fontsize = 8)  # Rotate feature names for better readability\n",
    "plt.yticks(fontsize = 8)\n",
    "plt.tight_layout()\n",
    "plt.show()"
   ]
  },
  {
   "cell_type": "code",
   "execution_count": null,
   "id": "27c2cd69",
   "metadata": {},
   "outputs": [],
   "source": [
    "from sklearn.tree import plot_tree\n",
    "\n",
    "# Choose the tree index to visualize (between 0 and number of trees - 1)\n",
    "tree_index = 4  # Change this to the desired tree index\n",
    "\n",
    "# Extract the tree object from the model\n",
    "tree = gb_mod_5.estimators_[tree_index]"
   ]
  },
  {
   "cell_type": "code",
   "execution_count": null,
   "id": "4161db50",
   "metadata": {},
   "outputs": [],
   "source": [
    "from sklearn.tree import export_graphviz\n",
    "export_graphviz(\n",
    "        gb_mod_5,\n",
    "        out_file=\"tree.dot\",\n",
    "        feature_names=X_train.columns,\n",
    "        impurity=False,\n",
    "        rounded=True,\n",
    "        filled=True\n",
    "    )\n",
    "Source.from_file(\"tree.dot\")"
   ]
  },
  {
   "cell_type": "code",
   "execution_count": null,
   "id": "dafa07dd",
   "metadata": {},
   "outputs": [],
   "source": [
    "dff.describe()"
   ]
  },
  {
   "cell_type": "code",
   "execution_count": null,
   "id": "4e09cf9c",
   "metadata": {},
   "outputs": [],
   "source": [
    "df.head()"
   ]
  },
  {
   "cell_type": "code",
   "execution_count": null,
   "id": "8c47131a",
   "metadata": {},
   "outputs": [],
   "source": [
    "# Sample data (modify with your actual data)\n",
    "var1 = dff['TrueVerticalDepth_FT']\n",
    "var2 = dff['MeasuredDepth_FT']\n",
    "\n",
    "# Create the plot\n",
    "plt.hist(var1, bins='auto', alpha=0.5, label='Vertical Depth')\n",
    "plt.hist(var2, bins='auto', alpha=0.5, label='Full Measured Length')\n",
    "plt.xlabel('Feet')\n",
    "plt.ylabel('Frequency')\n",
    "plt.title('Frequency Distribution of Well Depth')\n",
    "plt.legend()\n",
    "plt.grid(False)\n",
    "plt.show()"
   ]
  },
  {
   "cell_type": "code",
   "execution_count": null,
   "id": "8eb0cfed",
   "metadata": {},
   "outputs": [],
   "source": [
    "# Sample data (modify with your actual data)\n",
    "var1 = dff['CumOil_BBL']\n",
    "\n",
    "# Create the plot\n",
    "plt.hist(var1, bins='auto', alpha=0.5)\n",
    "plt.xlabel('Barrels of Oil')\n",
    "plt.ylabel('Frequency')\n",
    "plt.title('Frequency Distribution of Oil Production in Barrels')\n",
    "plt.legend()\n",
    "plt.grid(False)\n",
    "plt.show()"
   ]
  },
  {
   "cell_type": "code",
   "execution_count": null,
   "id": "9c546d02",
   "metadata": {
    "scrolled": false
   },
   "outputs": [],
   "source": [
    "# Sample data (modify with your actual data)\n",
    "var1 = dff['ProductionMonthsCount']\n",
    "\n",
    "# Create the plot\n",
    "plt.hist(var1, bins='auto', alpha=0.5)\n",
    "plt.xlabel('Number of Months')\n",
    "plt.ylabel('Frequency')\n",
    "plt.title('Frequency Distribution of Production Timeline per Well')\n",
    "plt.legend()\n",
    "plt.grid(False)\n",
    "plt.show()"
   ]
  },
  {
   "cell_type": "code",
   "execution_count": null,
   "id": "63865c97",
   "metadata": {},
   "outputs": [],
   "source": [
    "# Create the bar plot\n",
    "# new imports\n",
    "from sklearn.preprocessing import StandardScaler\n",
    "from sklearn.decomposition import PCA\n",
    "scaler = StandardScaler()\n",
    "scaler.fit(X_train)\n",
    "std_x_train = X_train.copy()\n",
    "std_x_test = X_test.copy()\n",
    "\n",
    "std_train_array = scaler.transform(std_x_train)\n",
    "std_test_array = scaler.transform(std_x_test)\n",
    "\n",
    "std_x_train[:] = std_train_array\n",
    "std_x_test[:] = std_test_array\n",
    "\n",
    "# Apply PCA\n",
    "pca = PCA(n_components=len(X_train.columns))\n",
    "pca.fit(std_x_train[:])\n",
    "\n",
    "\n",
    "# Example data: Explained variance ratio for each principal component\n",
    "explained_variance_ratio = np.array(pca.explained_variance_ratio_)\n",
    "\n",
    "# Cumulative explained variance\n",
    "cumulative_explained_variance = pca.explained_variance_ratio_.cumsum()\n",
    "\n",
    "# Number of components\n",
    "components = range(1, len(explained_variance_ratio) + 1)\n",
    "\n",
    "# Creating the plot\n",
    "plt.figure(figsize=(10, 6))\n",
    "plt.bar(components, explained_variance_ratio, alpha=0.5, label='Individual explained variance')\n",
    "plt.plot(components, cumulative_explained_variance, marker='o', linestyle='-', color='r', label='Cumulative explained variance')\n",
    "\n",
    "plt.xlabel('Principal Component')\n",
    "plt.ylabel('Explained Variance Ratio')\n",
    "plt.title('PCA Explained Variance')\n",
    "plt.xticks(components, X_train.columns[:pca.n_components_], rotation=45, fontsize = 8, ha='right')\n",
    "plt.legend(loc='best')\n",
    "\n",
    "plt.show()\n"
   ]
  }
 ],
 "metadata": {
  "kernelspec": {
   "display_name": "Python 3 (ipykernel)",
   "language": "python",
   "name": "python3"
  },
  "language_info": {
   "codemirror_mode": {
    "name": "ipython",
    "version": 3
   },
   "file_extension": ".py",
   "mimetype": "text/x-python",
   "name": "python",
   "nbconvert_exporter": "python",
   "pygments_lexer": "ipython3",
   "version": "3.9.13"
  }
 },
 "nbformat": 4,
 "nbformat_minor": 5
}
