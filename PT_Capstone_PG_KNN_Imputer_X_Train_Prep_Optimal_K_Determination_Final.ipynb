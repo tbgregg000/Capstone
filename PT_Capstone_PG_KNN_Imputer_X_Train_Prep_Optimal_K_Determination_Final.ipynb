{
 "cells": [
  {
   "cell_type": "code",
   "execution_count": 1,
   "id": "2ee69c97",
   "metadata": {},
   "outputs": [],
   "source": [
    "import pandas as pd\n",
    "import matplotlib.pyplot as plt\n",
    "import seaborn as sns\n",
    "from scipy import stats\n",
    "import numpy as np\n",
    "import os\n",
    "import statsmodels.api as sm\n",
    "#from graphviz import Source\n",
    "from sklearn.model_selection import train_test_split\n",
    "from sklearn.linear_model import LinearRegression\n",
    "from sklearn.tree import DecisionTreeRegressor\n",
    "#from sklearn.tree import export_graphviz\n",
    "from sklearn.ensemble import RandomForestRegressor\n",
    "from sklearn.ensemble import GradientBoostingRegressor\n",
    "from sklearn.model_selection import cross_val_score\n",
    "from sklearn.model_selection import GridSearchCV\n",
    "from sklearn.metrics import mean_squared_error\n",
    "import matplotlib.pyplot as plt\n",
    "import seaborn as sns\n",
    "import mapi\n",
    "from sklearn.experimental import enable_iterative_imputer\n",
    "from sklearn.impute import IterativeImputer\n",
    "from sklearn.metrics import mean_absolute_error, mean_squared_error, r2_score\n",
    "from sklearn.model_selection import GridSearchCV\n",
    "from xgboost import XGBRegressor\n",
    "from sklearn.neighbors import KNeighborsRegressor\n",
    "from sklearn.ensemble import ExtraTreesRegressor\n",
    "from sklearn.tree import DecisionTreeRegressor\n",
    "from sklearn.linear_model import LinearRegression\n",
    "from sklearn.ensemble import RandomForestRegressor\n",
    "from sklearn.linear_model import ElasticNet\n",
    "from sklearn.svm import SVR\n",
    "from sklearn.ensemble import GradientBoostingRegressor\n",
    "import numpy as np\n",
    "import pandas as pd\n",
    "from sklearn.impute import KNNImputer\n",
    "from sklearn.model_selection import train_test_split\n",
    "from sklearn.metrics import accuracy_score\n",
    "from sklearn.linear_model import LogisticRegression"
   ]
  },
  {
   "cell_type": "code",
   "execution_count": 2,
   "id": "95ec22da",
   "metadata": {},
   "outputs": [],
   "source": [
    "# new imports\n",
    "from sklearn.preprocessing import StandardScaler\n",
    "from sklearn.linear_model import Ridge\n",
    "from sklearn.linear_model import Lasso\n",
    "from sklearn.linear_model import ElasticNet\n",
    "from sklearn.linear_model import RidgeCV\n",
    "from sklearn.linear_model import LassoCV\n",
    "from sklearn.linear_model import ElasticNetCV"
   ]
  },
  {
   "cell_type": "code",
   "execution_count": 3,
   "id": "9abf2a85",
   "metadata": {},
   "outputs": [],
   "source": [
    "#Load Raw Data\n",
    "file_path = 'C:\\\\Users\\\\rafma\\\\Python\\\\46889 Capstone\\\\GenericWellData.xlsx'\n",
    "df = pd.read_excel(file_path)\n",
    "index = df['Well Index']"
   ]
  },
  {
   "cell_type": "code",
   "execution_count": 4,
   "id": "4dd9140c",
   "metadata": {},
   "outputs": [],
   "source": [
    "#Remove Date fields from training data set\n",
    "#Dropped also 'MOnthsProductionCount'\n",
    "#Reponse variable limited to only first 3 months production output oil\n",
    "y = df['CumOil_BBL']\n",
    "x = df.drop(['FractureStages', 'AvgStageSpacing_FT', 'Well Index', 'InitialProductionDate', 'DrillingStartDate','InitialProductionYear', 'DrillingCompletionDate', 'YearOfDrilling', 'InitialProductionMonth', 'ProductionMonthsCount', 'First36MonthWater_BBL', 'First3MonthGas_MCF', 'First3MonthGas_MCFPer1000FT', 'First3MonthProd_MCFE', 'First3MonthProd_MCFEPer1000FT', 'First3MonthOil_BBL', 'First3MonthOil_BBLPer1000FT', 'First3MonthWater_BBL', 'First6MonthProd_BOE', 'First6MonthProd_BOEPer1000FT', 'First6MonthGas_MCF', 'First6MonthGas_MCFPer1000FT', 'First6MonthProd_MCFE', 'First6MonthProd_MCFEPer1000FT', 'First6MonthOil_BBL', 'First6MonthOil_BBLPer1000FT', 'First6MonthWater_BBL', 'First9MonthProd_BOE', 'First9MonthProd_BOEPer1000FT', 'First9MonthGas_MCF', 'First9MonthGas_MCFPer1000FT', 'First9MonthProd_MCFE', 'First9MonthProd_MCFEPer1000FT', 'First9MonthOil_BBL', 'First9MonthOil_BBLPer1000FT', 'First9MonthWater_BBL', 'First12MonthProd_BOE', 'First12MonthProd_BOEPer1000FT', 'First12MonthGas_MCF', 'First12MonthGas_MCFPer1000FT', 'First12MonthProd_MCFE', 'First12MonthProd_MCFEPer1000FT', 'First12MonthOil_BBL', 'First12MonthOil_BBLPer1000FT', 'First12MonthWater_BBL', 'First36MonthProd_BOE', 'First36MonthProd_BOEPer1000FT', 'First36MonthGas_MCFPer1000FT', 'First36MonthProd_MCFE', 'First36MonthProd_MCFEPer1000FT', 'First36MonthOil_BBLPer1000FT', 'First36MonthWaterProductionBBLPer1000Ft', 'PeakProd_BOE', 'PeakProd_BOEPer1000FT', 'PeakGas_MCF', 'PeakGas_MCFPer1000FT', 'PeakProd_MCFE', 'PeakProd_MCFEPer1000FT', 'PeakOil_BBL', 'PeakOil_BBLPer1000FT', 'PeakWater_BBL', 'CumProd_BOE', 'CumProd_BOEPer1000FT', 'CumGas_MCF', 'CumGas_MCFPer1000FT', 'CumProd_MCFE', 'CumProd_MCFEPer1000FT', 'CumOil_BBL', 'CumOil_BBLPer1000FT', 'CumWater_BBL', 'First3MonthProd_BOEPer1000FT'], axis = 1)\n",
    "#'Well Index'"
   ]
  },
  {
   "cell_type": "code",
   "execution_count": 5,
   "id": "f3e0b608",
   "metadata": {},
   "outputs": [],
   "source": [
    "x = pd.get_dummies(x, columns=['OilTest_Method'])\n",
    "for col in x.columns:\n",
    "    if x[col].dtype == 'bool':\n",
    "        x[col] = x[col].astype(int)"
   ]
  },
  {
   "cell_type": "code",
   "execution_count": 6,
   "id": "5530ffb5",
   "metadata": {},
   "outputs": [],
   "source": [
    "#Convert float data type to numeric and remove comma separators of numbers\n",
    "for col in x.columns:\n",
    "    if x[col].dtype == 'object':  # Check if the column contains string values\n",
    "        # Remove commas and convert to numeric, setting errors to 'coerce' to handle non-numeric strings\n",
    "        x[col] = pd.to_numeric(x[col].str.replace(',', ''), errors='coerce')"
   ]
  },
  {
   "cell_type": "code",
   "execution_count": 7,
   "id": "49df3fb5",
   "metadata": {},
   "outputs": [
    {
     "name": "stdout",
     "output_type": "stream",
     "text": [
      "<class 'pandas.core.frame.DataFrame'>\n",
      "RangeIndex: 16707 entries, 0 to 16706\n",
      "Data columns (total 18 columns):\n",
      " #   Column                      Non-Null Count  Dtype  \n",
      "---  ------                      --------------  -----  \n",
      " 0   TrueVerticalDepth_FT        16705 non-null  float64\n",
      " 1   MeasuredDepth_FT            16660 non-null  float64\n",
      " 2   UpperPerforation_FT         16573 non-null  float64\n",
      " 3   LowerPerforation_FT         16573 non-null  float64\n",
      " 4   PerforationInterval_FT      16659 non-null  float64\n",
      " 5   LateralLength_FT            16705 non-null  float64\n",
      " 6   ProppantLoad_LBSPerGAL      15188 non-null  float64\n",
      " 7   ProppantIntensity_LBSPerFT  15324 non-null  float64\n",
      " 8   TotalProppant_LBS           15368 non-null  float64\n",
      " 9   TotalWaterPumped_GAL        15682 non-null  float64\n",
      " 10  WaterIntensity_GALPerFT     15662 non-null  float64\n",
      " 11  TotalFluidPumped_BBL        15662 non-null  float64\n",
      " 12  FluidIntensity_BBLPerFT     15642 non-null  float64\n",
      " 13  AcidVolume_BBL              13476 non-null  float64\n",
      " 14  DrillingDuration_DAYS       15598 non-null  float64\n",
      " 15  OilTest_Method_FLOWING      16707 non-null  int32  \n",
      " 16  OilTest_Method_GAS LIFT     16707 non-null  int32  \n",
      " 17  OilTest_Method_PUMPING      16707 non-null  int32  \n",
      "dtypes: float64(15), int32(3)\n",
      "memory usage: 2.1 MB\n"
     ]
    }
   ],
   "source": [
    "x.info()"
   ]
  },
  {
   "cell_type": "code",
   "execution_count": 8,
   "id": "e159ba32",
   "metadata": {},
   "outputs": [],
   "source": [
    "#Train Test Split for XGBOOST KNN Optimal k determination\n",
    "x_train, x_test, y_train, y_test = train_test_split(x, y, test_size=0.3, random_state=99)"
   ]
  },
  {
   "cell_type": "code",
   "execution_count": 11,
   "id": "4bef2a46",
   "metadata": {},
   "outputs": [
    {
     "name": "stdout",
     "output_type": "stream",
     "text": [
      "Best k: 7 with accuracy: 0.29544534004467893\n",
      "{1: 0.2677167482611862, 2: 0.2806797344155827, 3: 0.28054629367483874, 4: 0.2895817402455748, 5: 0.280867496665981, 6: 0.28018913185062855, 7: 0.29544534004467893, 8: 0.2847699056619184, 9: 0.28614912973351647, 10: 0.27377644805617574, 11: 0.28544787502021074, 12: 0.28667449512613186, 13: 0.28031968571168886, 14: 0.28736694304752886}\n"
     ]
    }
   ],
   "source": [
    "# Dictionary to store the scores for different k values\n",
    "scores = {}\n",
    "\n",
    "# Iterate over multiple k values\n",
    "for k in range(1, 15):  # Example: trying k values from 1 to 5\n",
    "    #Create kNN Imputer\n",
    "    imputer = KNNImputer(n_neighbors=k)\n",
    "    \n",
    "    # Fit the imputer and transform the training data\n",
    "    x_train_imputed = imputer.fit_transform(x_train)\n",
    "    x_test_imputed = imputer.transform(x_test)\n",
    "    \n",
    "    # Fit a simple model (RF OR XGBOOST) to the imputed data\n",
    "    #model = RandomForestRegressor(random_state=99) if RF model desired for optimal k determination\n",
    "    model = XGBRegressor(learning_rate=0.075, n_estimators= 400, max_depth = 7, random_state=99, alpha = 0.5)\n",
    "    model.fit(x_train_imputed, y_train)\n",
    "    \n",
    "    # Predict on the test set and evaluate the performance\n",
    "    y_pred = model.predict(x_test_imputed)\n",
    "    #accuracy = accuracy_score(y_test, y_pred)\n",
    "    \n",
    "    #Evaluate the performance using R-squared or or other performance metric\n",
    "    r2 = r2_score(y_test, y_pred)\n",
    "    #mae = mean_absolute_error(y_test, y_pred)\n",
    "    #mse = mean_squared_error(y_test, y_pred)\n",
    "   # rmse = np.sqrt(mse)\n",
    "    \n",
    "    # Store the score\n",
    "    scores[k] = r2\n",
    "    #scores[k] = accuracy\n",
    "    \n",
    "# Find the best k value\n",
    "best_k = max(scores, key=scores.get)\n",
    "best_score = scores[best_k]\n",
    "\n",
    "print(f\"Best k: {best_k} with R^2: {best_score}\")\n",
    "print(scores)"
   ]
  },
  {
   "cell_type": "code",
   "execution_count": 12,
   "id": "8b5b9539",
   "metadata": {},
   "outputs": [],
   "source": [
    "#Imputation for k= 7\n",
    "imputer = IterativeImputer(estimator=KNeighborsRegressor(n_neighbors=7))"
   ]
  },
  {
   "cell_type": "code",
   "execution_count": 13,
   "id": "58a9e01f",
   "metadata": {},
   "outputs": [
    {
     "name": "stderr",
     "output_type": "stream",
     "text": [
      "C:\\Users\\rafma\\anaconda3\\Lib\\site-packages\\sklearn\\impute\\_iterative.py:796: ConvergenceWarning: [IterativeImputer] Early stopping criterion not reached.\n",
      "  warnings.warn(\n"
     ]
    }
   ],
   "source": [
    "#Runs the KNN iterative imputer to estimate missing values for the :\n",
    "imputed_data = imputer.fit_transform(x)\n",
    "imputed_x = pd.DataFrame(imputed_data, columns=x.columns)"
   ]
  },
  {
   "cell_type": "code",
   "execution_count": 14,
   "id": "14e33907",
   "metadata": {},
   "outputs": [
    {
     "name": "stdout",
     "output_type": "stream",
     "text": [
      "<class 'pandas.core.frame.DataFrame'>\n",
      "RangeIndex: 16707 entries, 0 to 16706\n",
      "Data columns (total 18 columns):\n",
      " #   Column                      Non-Null Count  Dtype  \n",
      "---  ------                      --------------  -----  \n",
      " 0   TrueVerticalDepth_FT        16707 non-null  float64\n",
      " 1   MeasuredDepth_FT            16707 non-null  float64\n",
      " 2   UpperPerforation_FT         16707 non-null  float64\n",
      " 3   LowerPerforation_FT         16707 non-null  float64\n",
      " 4   PerforationInterval_FT      16707 non-null  float64\n",
      " 5   LateralLength_FT            16707 non-null  float64\n",
      " 6   ProppantLoad_LBSPerGAL      16707 non-null  float64\n",
      " 7   ProppantIntensity_LBSPerFT  16707 non-null  float64\n",
      " 8   TotalProppant_LBS           16707 non-null  float64\n",
      " 9   TotalWaterPumped_GAL        16707 non-null  float64\n",
      " 10  WaterIntensity_GALPerFT     16707 non-null  float64\n",
      " 11  TotalFluidPumped_BBL        16707 non-null  float64\n",
      " 12  FluidIntensity_BBLPerFT     16707 non-null  float64\n",
      " 13  AcidVolume_BBL              16707 non-null  float64\n",
      " 14  DrillingDuration_DAYS       16707 non-null  float64\n",
      " 15  OilTest_Method_FLOWING      16707 non-null  float64\n",
      " 16  OilTest_Method_GAS LIFT     16707 non-null  float64\n",
      " 17  OilTest_Method_PUMPING      16707 non-null  float64\n",
      "dtypes: float64(18)\n",
      "memory usage: 2.3 MB\n"
     ]
    }
   ],
   "source": [
    "imputed_x.info()"
   ]
  }
 ],
 "metadata": {
  "kernelspec": {
   "display_name": "Python 3 (ipykernel)",
   "language": "python",
   "name": "python3"
  },
  "language_info": {
   "codemirror_mode": {
    "name": "ipython",
    "version": 3
   },
   "file_extension": ".py",
   "mimetype": "text/x-python",
   "name": "python",
   "nbconvert_exporter": "python",
   "pygments_lexer": "ipython3",
   "version": "3.11.5"
  }
 },
 "nbformat": 4,
 "nbformat_minor": 5
}
