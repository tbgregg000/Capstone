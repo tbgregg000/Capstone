{
 "cells": [
  {
   "cell_type": "markdown",
   "id": "453e2572",
   "metadata": {},
   "source": [
    "# SHAP Analysis"
   ]
  },
  {
   "cell_type": "code",
   "execution_count": null,
   "id": "873807a2",
   "metadata": {},
   "outputs": [],
   "source": [
    "# Importing Libraries for Shap Analysis\n",
    "import shap\n",
    "shap.initjs()\n",
    "from IPython.display import display, HTML"
   ]
  },
  {
   "cell_type": "code",
   "execution_count": null,
   "id": "be57afdb",
   "metadata": {},
   "outputs": [],
   "source": [
    "shap_values_array = shap_values.values\n",
    "shap_values_dict = {}\n",
    "for i in range(min(len(list_of_train_columns), len(list_of_test_columns))):\n",
    "    var_name = f'xgb_mod_{display_list_columns[i]}'\n",
    "    model = boosted_models_list[var_name]\n",
    "    explainer = shap.Explainer(model.predict, X_test)\n",
    "    shap_values = explainer(X_test)\n",
    "    shap_values_dict[var_name] = shap_values\n",
    "\n",
    "    def print_bold_large(text):\n",
    "        display(HTML(f\"<b style='font-size: 20px;'>{text}</b>\"))\n",
    "    print_bold_large(f\"SHAP analysis for model: {var_name}\") \n",
    "    shap.summary_plot(shap_values, X_test,plot_type='bar',plot_size=(12,10))\n",
    "    shap.summary_plot(shap_values, X_test,plot_size=(12,10))\n",
    "    shap.plots.bar(shap_values, max_display=len(X.columns))\n",
    "    \n",
    "    plots_per_row = 3\n",
    "    num_features = X_test.shape[1]\n",
    "    num_rows = (num_features + plots_per_row - 1) // plots_per_row\n",
    "\n",
    "    fig, axs = plt.subplots(num_rows, plots_per_row, figsize=(17, num_rows*5))\n",
    "\n",
    "    for i in range(num_features):\n",
    "        row = i // plots_per_row\n",
    "        col = i % plots_per_row\n",
    "    \n",
    "        ax = axs[row, col] if num_rows > 1 else axs[col]\n",
    "        shap.dependence_plot(i, shap_values_array, X_test, ax=ax, show=False, interaction_index=None)\n",
    "        ax.set_title(X_test.columns[i])\n",
    "    \n",
    "    if num_features % plots_per_row != 0:\n",
    "        for j in range(num_features, num_rows * plots_per_row):\n",
    "            fig.delaxes(axs.flatten()[j])\n",
    "        \n",
    "    plt.tight_layout()\n",
    "    plt.show()"
   ]
  }
 ],
 "metadata": {
  "kernelspec": {
   "display_name": "Python 3 (ipykernel)",
   "language": "python",
   "name": "python3"
  },
  "language_info": {
   "codemirror_mode": {
    "name": "ipython",
    "version": 3
   },
   "file_extension": ".py",
   "mimetype": "text/x-python",
   "name": "python",
   "nbconvert_exporter": "python",
   "pygments_lexer": "ipython3",
   "version": "3.9.13"
  }
 },
 "nbformat": 4,
 "nbformat_minor": 5
}
