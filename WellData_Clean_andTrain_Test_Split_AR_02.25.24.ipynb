{
 "cells": [
  {
   "cell_type": "code",
   "execution_count": null,
   "id": "889ada6c",
   "metadata": {},
   "outputs": [],
   "source": [
    "import pandas as pd\n",
    "import matplotlib.pyplot as plt\n",
    "import seaborn as sns\n",
    "from scipy import stats\n",
    "import numpy as np\n",
    "import os\n",
    "import statsmodels.api as sm\n",
    "#from graphviz import Source\n",
    "from sklearn.model_selection import train_test_split\n",
    "from sklearn.linear_model import LinearRegression\n",
    "from sklearn.tree import DecisionTreeRegressor\n",
    "#from sklearn.tree import export_graphviz\n",
    "from sklearn.ensemble import RandomForestRegressor\n",
    "from sklearn.ensemble import GradientBoostingRegressor\n",
    "from sklearn.model_selection import cross_val_score\n",
    "from sklearn.model_selection import GridSearchCV\n",
    "from sklearn.metrics import mean_squared_error\n",
    "import matplotlib.pyplot as plt\n",
    "import seaborn as sns\n",
    "from sklearn.preprocessing import StandardScaler\n",
    "from sklearn.linear_model import Ridge\n",
    "from sklearn.linear_model import Lasso\n",
    "from sklearn.linear_model import ElasticNet\n",
    "from sklearn.linear_model import RidgeCV\n",
    "from sklearn.linear_model import LassoCV\n",
    "from sklearn.linear_model import ElasticNetCV"
   ]
  },
  {
   "cell_type": "code",
   "execution_count": null,
   "id": "53ca6ce7",
   "metadata": {},
   "outputs": [],
   "source": [
    "pd.options.display.max_columns = None"
   ]
  },
  {
   "cell_type": "code",
   "execution_count": null,
   "id": "7827cb4a",
   "metadata": {},
   "outputs": [],
   "source": [
    "#Load Raw Data\n",
    "file_path = 'C:\\\\Users\\\\rafma\\\\Python\\\\46889 Capstone\\\\Cleaned_GenericWellData.csv'\n",
    "Well_Data = pd.read_csv(file_path)"
   ]
  },
  {
   "cell_type": "code",
   "execution_count": null,
   "id": "422f5244",
   "metadata": {},
   "outputs": [],
   "source": [
    "os.chdir(\"C:\\\\Users\\\\rafma\\\\Python\\\\46889 Capstone\")"
   ]
  },
  {
   "cell_type": "code",
   "execution_count": null,
   "id": "07bb95ee",
   "metadata": {},
   "outputs": [],
   "source": [
    "#Andrew Data Cleaning Code \n",
    "\n",
    "#Identifying missing values\n",
    "\n",
    "#missing_values = data.isnull().sum()\n",
    "#missing_values = missing_values[missing_values > 0].sort_values(ascending=False)\n",
    "#print(\"\\nColumns with missing values and their count:\")\n",
    "#print(missing_values)\n",
    "\n",
    "#Fill missing values with median for numerical columns and mode for categorical columns\n",
    "\n",
    "#for column in data.columns:\n",
    "#     if data[column].dtype == 'float64' or data[column].dtype == 'int64':\n",
    "#         data[column].fillna(data[column].median(), inplace=True)\n",
    "#     elif data[column].dtype == 'object':\n",
    "#         data[column].fillna(data[column].mode()[0], inplace=True)\n",
    "\n",
    "#data = data.drop_duplicates()\n",
    "\n",
    "#Blank Cell Count\n",
    "blank_cells = Well_Data.isnull().sum().sum()\n",
    "blank_cells"
   ]
  },
  {
   "cell_type": "code",
   "execution_count": null,
   "id": "d44cb8be",
   "metadata": {},
   "outputs": [],
   "source": [
    "#Remove Date fields from training data set\n",
    "#Keep 'InitialProductionYear' column?\n",
    "#Reponse variable limited to only first 3 months production output oil - Change as needed for each response variable\n",
    "y = Well_Data['First3MonthOil_BBLPer1000FT']\n",
    "x = Well_Data.drop(['Well Index', 'InitialProductionDate', 'DrillingStartDate','InitialProductionYear', 'DrillingCompletionDate', 'YearOfDrilling', 'InitialProductionMonth','First36MonthWater_BBL', 'First3MonthGas_MCF', 'First3MonthGas_MCFPer1000FT', 'First3MonthProd_MCFE', 'First3MonthProd_MCFEPer1000FT', 'First3MonthOil_BBL', 'First3MonthOil_BBLPer1000FT', 'First3MonthWater_BBL', 'First6MonthProd_BOE', 'First6MonthProd_BOEPer1000FT', 'First6MonthGas_MCF', 'First6MonthGas_MCFPer1000FT', 'First6MonthProd_MCFE', 'First6MonthProd_MCFEPer1000FT', 'First6MonthOil_BBL', 'First6MonthOil_BBLPer1000FT', 'First6MonthWater_BBL', 'First9MonthProd_BOE', 'First9MonthProd_BOEPer1000FT', 'First9MonthGas_MCF', 'First9MonthGas_MCFPer1000FT', 'First9MonthProd_MCFE', 'First9MonthProd_MCFEPer1000FT', 'First9MonthOil_BBL', 'First9MonthOil_BBLPer1000FT', 'First9MonthWater_BBL', 'First12MonthProd_BOE', 'First12MonthProd_BOEPer1000FT', 'First12MonthGas_MCF', 'First12MonthGas_MCFPer1000FT', 'First12MonthProd_MCFE', 'First12MonthProd_MCFEPer1000FT', 'First12MonthOil_BBL', 'First12MonthOil_BBLPer1000FT', 'First12MonthWater_BBL', 'First36MonthProd_BOE', 'First36MonthProd_BOEPer1000FT', 'First36MonthGas_MCFPer1000FT', 'First36MonthProd_MCFE', 'First36MonthProd_MCFEPer1000FT', 'First36MonthOil_BBLPer1000FT', 'First36MonthWaterProductionBBLPer1000Ft', 'PeakProd_BOE', 'PeakProd_BOEPer1000FT', 'PeakGas_MCF', 'PeakGas_MCFPer1000FT', 'PeakProd_MCFE', 'PeakProd_MCFEPer1000FT', 'PeakOil_BBL', 'PeakOil_BBLPer1000FT', 'PeakWater_BBL', 'CumProd_BOE', 'CumProd_BOEPer1000FT', 'CumGas_MCF', 'CumGas_MCFPer1000FT', 'CumProd_MCFE', 'CumProd_MCFEPer1000FT', 'CumOil_BBL', 'CumOil_BBLPer1000FT', 'CumWater_BBL', 'First3MonthProd_BOEPer1000FT'], axis = 1)"
   ]
  },
  {
   "cell_type": "code",
   "execution_count": null,
   "id": "eee6e5d7",
   "metadata": {},
   "outputs": [],
   "source": [
    "#Convert Dummy Category Columns form True False to binary\n",
    "x = pd.get_dummies(x, columns=['OilTest_Method'])\n",
    "for col in x.columns:\n",
    "    if x[col].dtype == 'bool':\n",
    "        x[col] = x[col].astype(int)"
   ]
  },
  {
   "cell_type": "code",
   "execution_count": null,
   "id": "66cfe1fa",
   "metadata": {},
   "outputs": [],
   "source": [
    "#Convert float data type to numeric and remove comma separators of numbers\n",
    "for col in x.columns:\n",
    "    if x[col].dtype == 'float':\n",
    "        x[col] = x[col].astype(int)\n",
    "        \n",
    "for col in x.columns:\n",
    "    if x[col].dtype == 'object':  # Check if the column contains string values\n",
    "        # Remove commas and convert to numeric, setting errors to 'coerce' to handle non-numeric strings\n",
    "        x[col] = pd.to_numeric(x[col].str.replace(',', ''), errors='coerce')"
   ]
  },
  {
   "cell_type": "code",
   "execution_count": null,
   "id": "4b917810",
   "metadata": {},
   "outputs": [],
   "source": [
    "#Train Test Split\n",
    "x_train, x_test, y_train, y_test = train_test_split(x, y, test_size=0.3, random_state=99)"
   ]
  },
  {
   "cell_type": "code",
   "execution_count": null,
   "id": "d2a9f232",
   "metadata": {},
   "outputs": [],
   "source": [
    "x_train.head(20)"
   ]
  }
 ],
 "metadata": {
  "kernelspec": {
   "display_name": "Python 3 (ipykernel)",
   "language": "python",
   "name": "python3"
  },
  "language_info": {
   "codemirror_mode": {
    "name": "ipython",
    "version": 3
   },
   "file_extension": ".py",
   "mimetype": "text/x-python",
   "name": "python",
   "nbconvert_exporter": "python",
   "pygments_lexer": "ipython3",
   "version": "3.11.5"
  }
 },
 "nbformat": 4,
 "nbformat_minor": 5
}
